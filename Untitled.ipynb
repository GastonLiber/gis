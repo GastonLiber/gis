{
 "cells": [
  {
   "cell_type": "code",
   "execution_count": 3,
   "id": "0654165d",
   "metadata": {},
   "outputs": [],
   "source": [
    "import zipfile\n",
    "with zipfile.ZipFile(\"scikit-feature-master.zip\", \"r\") as zip_ref:\n",
    "    zip_ref.extractall()"
   ]
  },
  {
   "cell_type": "code",
   "execution_count": 9,
   "id": "9b1668eb",
   "metadata": {},
   "outputs": [
    {
     "name": "stdout",
     "output_type": "stream",
     "text": [
      " El volumen de la unidad C no tiene etiqueta.\n",
      " El número de serie del volumen es: E035-EE8F\n",
      "\n",
      " Directorio de C:\\Users\\Gaston\\feature_selections\\QuickSelection\\QuickSelection\n",
      "\n",
      "26/11/2021  15:19    <DIR>          .\n",
      "26/11/2021  15:19    <DIR>          ..\n",
      "26/11/2021  15:19             3.848 fs_utils.py\n",
      "26/11/2021  15:19             2.338 other_classes.py\n",
      "26/11/2021  15:19             1.466 plt_utils.py\n",
      "26/11/2021  15:19             4.551 QuickSelection.py\n",
      "26/11/2021  15:19           334.952 sparseoperations.c\n",
      "26/11/2021  15:19           155.304 sparseoperations.cpython-37m-x86_64-linux-gnu.so\n",
      "26/11/2021  15:19               618 sparseoperations.pyx\n",
      "26/11/2021  15:19            18.343 Sparse_DAE.py\n",
      "26/11/2021  15:19             3.268 train_sparse_DAE.py\n",
      "26/11/2021  15:19             4.114 utils.py\n",
      "              10 archivos        528.802 bytes\n",
      "               2 dirs  185.653.489.664 bytes libres\n"
     ]
    }
   ],
   "source": [
    "!dir C:\\Users\\Gaston\\feature_selections\\QuickSelection\\QuickSelection\\"
   ]
  },
  {
   "cell_type": "code",
   "execution_count": 10,
   "id": "fd225ca4",
   "metadata": {},
   "outputs": [],
   "source": [
    "!python3 C:\\Users\\Gaston\\feature_selections\\QuickSelection\\QuickSelection\\train_sparse_DAE.py --dataset_name"
   ]
  }
 ],
 "metadata": {
  "kernelspec": {
   "display_name": "Python 3 (ipykernel)",
   "language": "python",
   "name": "python3"
  },
  "language_info": {
   "codemirror_mode": {
    "name": "ipython",
    "version": 3
   },
   "file_extension": ".py",
   "mimetype": "text/x-python",
   "name": "python",
   "nbconvert_exporter": "python",
   "pygments_lexer": "ipython3",
   "version": "3.9.7"
  }
 },
 "nbformat": 4,
 "nbformat_minor": 5
}
